{
 "cells": [
  {
   "cell_type": "code",
   "execution_count": 2,
   "id": "dd54e92b",
   "metadata": {},
   "outputs": [],
   "source": [
    "from services.user_dao import password_match, get_user_id\n",
    "from services.portfolio_dao import get_portfolios_by_user\n",
    "from services.transaction_dao import get_transactions_for_portfolio"
   ]
  },
  {
   "cell_type": "code",
   "execution_count": null,
   "id": "97271759",
   "metadata": {},
   "outputs": [
    {
     "name": "stdout",
     "output_type": "stream",
     "text": [
      "Login successful\n",
      "User ID: 1\n"
     ]
    }
   ],
   "source": [
    "admin = \"admin\"\n",
    "password = \"admin\"\n",
    "if password_match(admin, password):\n",
    "    print(\"Login successful\")\n",
    "    user_id = get_user_id(admin)\n",
    "    print(f\"User ID: {user_id}\")\n",
    "else:\n",
    "    print(\"Login failed\")"
   ]
  },
  {
   "cell_type": "code",
   "execution_count": 4,
   "id": "39f02187",
   "metadata": {},
   "outputs": [],
   "source": [
    "portfolios = get_portfolios_by_user(user_id)"
   ]
  },
  {
   "cell_type": "code",
   "execution_count": 5,
   "id": "8228c683",
   "metadata": {},
   "outputs": [],
   "source": [
    "portfolio_transactions = {}\n",
    "\n",
    "for portfolio in portfolios:\n",
    "    portfolio_id = portfolio[\"id\"]\n",
    "    transactions = get_transactions_for_portfolio(portfolio_id)\n",
    "    portfolio_transactions[portfolio_id] = transactions"
   ]
  },
  {
   "cell_type": "code",
   "execution_count": 6,
   "id": "79b8dfb5",
   "metadata": {},
   "outputs": [],
   "source": [
    "# Create mapping from portfolio ID to name\n",
    "portfolio_id_to_name = {p[\"id\"]: p[\"name\"] for p in portfolios}\n",
    "\n",
    "# Flatten and transform transactions into frontend-friendly format\n",
    "frontend_transactions = []\n",
    "\n",
    "for pid, transactions in portfolio_transactions.items():\n",
    "    portfolio_name = portfolio_id_to_name.get(pid, \"Unknown Portfolio\")\n",
    "    for tx in transactions:\n",
    "        date_str = tx[\"executed_at\"].strftime(\"%Y-%m-%d %H:%M:%S\")  # properly formatted datetime\n",
    "        frontend_transactions.append({\n",
    "            \"id\": tx[\"id\"],\n",
    "            \"portfolio\": portfolio_name,\n",
    "            \"ticker\": tx[\"ticker\"],\n",
    "            \"type\": tx[\"type\"].title(),\n",
    "            \"quantity\": tx[\"quantity\"],\n",
    "            \"price\": tx[\"price\"],\n",
    "            \"dateTime\": date_str\n",
    "        })"
   ]
  },
  {
   "cell_type": "code",
   "execution_count": 4,
   "id": "9b6b5e2a",
   "metadata": {},
   "outputs": [],
   "source": [
    "from services.position_dao import buy_stock, sell_stock"
   ]
  },
  {
   "cell_type": "code",
   "execution_count": 5,
   "id": "8c745335",
   "metadata": {},
   "outputs": [
    {
     "ename": "TypeError",
     "evalue": "unsupported operand type(s) for +: 'decimal.Decimal' and 'float'",
     "output_type": "error",
     "traceback": [
      "\u001b[31m---------------------------------------------------------------------------\u001b[39m",
      "\u001b[31mTypeError\u001b[39m                                 Traceback (most recent call last)",
      "\u001b[36mCell\u001b[39m\u001b[36m \u001b[39m\u001b[32mIn[5]\u001b[39m\u001b[32m, line 1\u001b[39m\n\u001b[32m----> \u001b[39m\u001b[32m1\u001b[39m \u001b[43mbuy_stock\u001b[49m\u001b[43m(\u001b[49m\u001b[32;43m1\u001b[39;49m\u001b[43m,\u001b[49m\u001b[43m \u001b[49m\u001b[33;43m\"\u001b[39;49m\u001b[33;43mAPPL\u001b[39;49m\u001b[33;43m\"\u001b[39;49m\u001b[43m,\u001b[49m\u001b[43m \u001b[49m\u001b[32;43m10\u001b[39;49m\u001b[43m,\u001b[49m\u001b[43m \u001b[49m\u001b[32;43m100.00\u001b[39;49m\u001b[43m)\u001b[49m\n",
      "\u001b[36mFile \u001b[39m\u001b[32m~/Documents/Work/Coding Projects/UTD/kiwi-analytics/kiwi-analytics-backend/services/position_dao.py:13\u001b[39m, in \u001b[36mbuy_stock\u001b[39m\u001b[34m(portfolio_id, ticker, quantity, price)\u001b[39m\n\u001b[32m     10\u001b[39m \u001b[38;5;28;01mif\u001b[39;00m position:\n\u001b[32m     11\u001b[39m     total_quantity = position.quantity + quantity\n\u001b[32m     12\u001b[39m     position.average_price = (\n\u001b[32m---> \u001b[39m\u001b[32m13\u001b[39m         \u001b[43m(\u001b[49m\u001b[43mposition\u001b[49m\u001b[43m.\u001b[49m\u001b[43maverage_price\u001b[49m\u001b[43m \u001b[49m\u001b[43m*\u001b[49m\u001b[43m \u001b[49m\u001b[43mposition\u001b[49m\u001b[43m.\u001b[49m\u001b[43mquantity\u001b[49m\u001b[43m)\u001b[49m\u001b[43m \u001b[49m\u001b[43m+\u001b[49m\u001b[43m \u001b[49m\u001b[43m(\u001b[49m\u001b[43mprice\u001b[49m\u001b[43m \u001b[49m\u001b[43m*\u001b[49m\u001b[43m \u001b[49m\u001b[43mquantity\u001b[49m\u001b[43m)\u001b[49m\n\u001b[32m     14\u001b[39m     ) / total_quantity\n\u001b[32m     15\u001b[39m     position.quantity = total_quantity\n\u001b[32m     16\u001b[39m \u001b[38;5;28;01melse\u001b[39;00m:\n",
      "\u001b[31mTypeError\u001b[39m: unsupported operand type(s) for +: 'decimal.Decimal' and 'float'"
     ]
    }
   ],
   "source": [
    "buy_stock(1, \"APPL\", 10, 100.00)"
   ]
  },
  {
   "cell_type": "code",
   "execution_count": null,
   "id": "cfec2460",
   "metadata": {},
   "outputs": [],
   "source": []
  },
  {
   "cell_type": "code",
   "execution_count": null,
   "id": "4a93b8e3",
   "metadata": {},
   "outputs": [],
   "source": []
  },
  {
   "cell_type": "code",
   "execution_count": null,
   "id": "f6212282",
   "metadata": {},
   "outputs": [],
   "source": []
  },
  {
   "cell_type": "code",
   "execution_count": null,
   "id": "087f9282",
   "metadata": {},
   "outputs": [],
   "source": []
  },
  {
   "cell_type": "code",
   "execution_count": null,
   "id": "c7a4e059",
   "metadata": {},
   "outputs": [],
   "source": []
  }
 ],
 "metadata": {
  "kernelspec": {
   "display_name": ".venv",
   "language": "python",
   "name": "python3"
  },
  "language_info": {
   "codemirror_mode": {
    "name": "ipython",
    "version": 3
   },
   "file_extension": ".py",
   "mimetype": "text/x-python",
   "name": "python",
   "nbconvert_exporter": "python",
   "pygments_lexer": "ipython3",
   "version": "3.11.9"
  }
 },
 "nbformat": 4,
 "nbformat_minor": 5
}
