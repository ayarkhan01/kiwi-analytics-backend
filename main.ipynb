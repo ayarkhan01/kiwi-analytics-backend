{
 "cells": [
  {
   "cell_type": "markdown",
   "id": "55f7b669",
   "metadata": {},
   "source": [
    "Password match - get user ID"
   ]
  },
  {
   "cell_type": "code",
   "execution_count": 1,
   "id": "0f8583b8",
   "metadata": {},
   "outputs": [],
   "source": [
    "from services.user_dao import password_match, get_user_id"
   ]
  },
  {
   "cell_type": "code",
   "execution_count": 2,
   "id": "08a1ce67",
   "metadata": {},
   "outputs": [],
   "source": [
    "admin = \"admin\"\n",
    "password = \"admin\""
   ]
  },
  {
   "cell_type": "code",
   "execution_count": 3,
   "id": "59f79e89",
   "metadata": {},
   "outputs": [
    {
     "name": "stdout",
     "output_type": "stream",
     "text": [
      "Login successful – User ID: 1\n"
     ]
    }
   ],
   "source": [
    "if not password_match(admin, password):\n",
    "    raise Exception(\"Login failed\")\n",
    "\n",
    "user_id = get_user_id(admin)\n",
    "print(f\"Login successful – User ID: {user_id}\")"
   ]
  },
  {
   "cell_type": "markdown",
   "id": "a2a31075",
   "metadata": {},
   "source": [
    "Retrieve all portfolios and transaction history related to this ID"
   ]
  },
  {
   "cell_type": "code",
   "execution_count": 19,
   "id": "e4743911",
   "metadata": {},
   "outputs": [],
   "source": [
    "from services.portfolio_dao import get_portfolios_by_user"
   ]
  },
  {
   "cell_type": "code",
   "execution_count": 20,
   "id": "3c5abbc2",
   "metadata": {},
   "outputs": [],
   "source": [
    "portfolios = get_portfolios_by_user(user_id)\n",
    "portfolio_id_to_name = {p.id: p.name for p in portfolios}"
   ]
  },
  {
   "cell_type": "code",
   "execution_count": 21,
   "id": "46a71e03",
   "metadata": {},
   "outputs": [],
   "source": [
    "from services.transaction_dao import get_transactions_for_portfolio"
   ]
  },
  {
   "cell_type": "code",
   "execution_count": 22,
   "id": "addcf297",
   "metadata": {},
   "outputs": [],
   "source": [
    "portfolio_transactions = {\n",
    "    p.id: get_transactions_for_portfolio(p.id)\n",
    "    for p in portfolios\n",
    "}"
   ]
  },
  {
   "cell_type": "code",
   "execution_count": 23,
   "id": "446e66ad",
   "metadata": {},
   "outputs": [],
   "source": [
    "frontend_transactions = []\n",
    "for pid, txs in portfolio_transactions.items():\n",
    "    portfolio_name = portfolio_id_to_name.get(pid, \"Unknown Portfolio\")\n",
    "    for tx in txs:\n",
    "        frontend_transactions.append({\n",
    "            \"id\": tx[\"id\"],\n",
    "            \"portfolio\": portfolio_name,\n",
    "            \"ticker\": tx[\"ticker\"],\n",
    "            \"type\": tx[\"type\"].title(),\n",
    "            \"quantity\": tx[\"quantity\"],\n",
    "            \"price\": tx[\"price\"],\n",
    "            \"dateTime\": tx[\"executed_at\"].strftime(\"%Y-%m-%d %H:%M:%S\")\n",
    "        })"
   ]
  },
  {
   "cell_type": "code",
   "execution_count": 24,
   "id": "26267edc",
   "metadata": {},
   "outputs": [
    {
     "data": {
      "text/plain": [
       "[{'id': 1,\n",
       "  'portfolio': 'Retirement Portfolio',\n",
       "  'ticker': 'AAPL',\n",
       "  'type': 'Buy',\n",
       "  'quantity': 10,\n",
       "  'price': 150.0,\n",
       "  'dateTime': '2025-04-15 18:34:45'},\n",
       " {'id': 2,\n",
       "  'portfolio': 'Retirement Portfolio',\n",
       "  'ticker': 'GOOGL',\n",
       "  'type': 'Buy',\n",
       "  'quantity': 5,\n",
       "  'price': 2800.0,\n",
       "  'dateTime': '2025-04-15 18:34:45'},\n",
       " {'id': 5,\n",
       "  'portfolio': 'Retirement Portfolio',\n",
       "  'ticker': 'MSFT',\n",
       "  'type': 'Buy',\n",
       "  'quantity': 10,\n",
       "  'price': 100.0,\n",
       "  'dateTime': '2025-04-22 00:22:51'},\n",
       " {'id': 6,\n",
       "  'portfolio': 'Retirement Portfolio',\n",
       "  'ticker': 'AAPL',\n",
       "  'type': 'Sell',\n",
       "  'quantity': 5,\n",
       "  'price': 150.0,\n",
       "  'dateTime': '2025-04-22 00:28:24'},\n",
       " {'id': 8,\n",
       "  'portfolio': 'Retirement Portfolio',\n",
       "  'ticker': 'APPL',\n",
       "  'type': 'Buy',\n",
       "  'quantity': 10,\n",
       "  'price': 100.0,\n",
       "  'dateTime': '2025-04-22 00:31:22'},\n",
       " {'id': 9,\n",
       "  'portfolio': 'Retirement Portfolio',\n",
       "  'ticker': 'AAPL',\n",
       "  'type': 'Buy',\n",
       "  'quantity': 10,\n",
       "  'price': 150.0,\n",
       "  'dateTime': '2025-04-30 02:32:21'},\n",
       " {'id': 10,\n",
       "  'portfolio': 'Retirement Portfolio',\n",
       "  'ticker': 'AAPL',\n",
       "  'type': 'Buy',\n",
       "  'quantity': 10,\n",
       "  'price': 150.0,\n",
       "  'dateTime': '2025-04-30 02:32:52'},\n",
       " {'id': 11,\n",
       "  'portfolio': 'Retirement Portfolio',\n",
       "  'ticker': 'AAPL',\n",
       "  'type': 'Buy',\n",
       "  'quantity': 10,\n",
       "  'price': 150.0,\n",
       "  'dateTime': '2025-04-30 02:37:07'},\n",
       " {'id': 12,\n",
       "  'portfolio': 'Retirement Portfolio',\n",
       "  'ticker': 'AAPL',\n",
       "  'type': 'Buy',\n",
       "  'quantity': 10,\n",
       "  'price': 150.0,\n",
       "  'dateTime': '2025-04-30 02:40:19'},\n",
       " {'id': 13,\n",
       "  'portfolio': 'Retirement Portfolio',\n",
       "  'ticker': 'AAPL',\n",
       "  'type': 'Buy',\n",
       "  'quantity': 10,\n",
       "  'price': 150.0,\n",
       "  'dateTime': '2025-04-30 02:43:29'},\n",
       " {'id': 14,\n",
       "  'portfolio': 'Retirement Portfolio',\n",
       "  'ticker': 'AAPL',\n",
       "  'type': 'Buy',\n",
       "  'quantity': 5,\n",
       "  'price': 190.0,\n",
       "  'dateTime': '2025-04-30 03:04:37'},\n",
       " {'id': 15,\n",
       "  'portfolio': 'Retirement Portfolio',\n",
       "  'ticker': 'AAPL',\n",
       "  'type': 'Buy',\n",
       "  'quantity': 7,\n",
       "  'price': 200.0,\n",
       "  'dateTime': '2025-04-30 03:06:43'},\n",
       " {'id': 16,\n",
       "  'portfolio': 'Retirement Portfolio',\n",
       "  'ticker': 'AAPL',\n",
       "  'type': 'Buy',\n",
       "  'quantity': 7,\n",
       "  'price': 200.0,\n",
       "  'dateTime': '2025-04-30 03:11:42'},\n",
       " {'id': 18,\n",
       "  'portfolio': 'Retirement Portfolio',\n",
       "  'ticker': 'META',\n",
       "  'type': 'Buy',\n",
       "  'quantity': 11,\n",
       "  'price': 175.0,\n",
       "  'dateTime': '2025-04-30 03:15:07'},\n",
       " {'id': 19,\n",
       "  'portfolio': 'Retirement Portfolio',\n",
       "  'ticker': 'META',\n",
       "  'type': 'Buy',\n",
       "  'quantity': 11,\n",
       "  'price': 175.0,\n",
       "  'dateTime': '2025-04-30 03:16:40'},\n",
       " {'id': 3,\n",
       "  'portfolio': 'Swing Trades',\n",
       "  'ticker': 'TSLA',\n",
       "  'type': 'Buy',\n",
       "  'quantity': 3,\n",
       "  'price': 700.0,\n",
       "  'dateTime': '2025-04-15 18:34:45'},\n",
       " {'id': 4,\n",
       "  'portfolio': 'Swing Trades',\n",
       "  'ticker': 'TSLA',\n",
       "  'type': 'Sell',\n",
       "  'quantity': 1,\n",
       "  'price': 750.0,\n",
       "  'dateTime': '2025-04-15 18:34:45'},\n",
       " {'id': 17,\n",
       "  'portfolio': 'Swing Trades',\n",
       "  'ticker': 'META',\n",
       "  'type': 'Buy',\n",
       "  'quantity': 113,\n",
       "  'price': 75.0,\n",
       "  'dateTime': '2025-04-30 03:14:14'}]"
      ]
     },
     "execution_count": 24,
     "metadata": {},
     "output_type": "execute_result"
    }
   ],
   "source": [
    "frontend_transactions"
   ]
  },
  {
   "cell_type": "markdown",
   "id": "576c0076",
   "metadata": {},
   "source": [
    "Fetch latest market data related to our portfolio stocks"
   ]
  },
  {
   "cell_type": "code",
   "execution_count": 10,
   "id": "926320ea",
   "metadata": {},
   "outputs": [],
   "source": [
    "from services.market_service import fetch_market_data"
   ]
  },
  {
   "cell_type": "code",
   "execution_count": 11,
   "id": "46c0a7b0",
   "metadata": {},
   "outputs": [],
   "source": [
    "stock_lookup = {s['ticker']: s for s in fetch_market_data()}"
   ]
  },
  {
   "cell_type": "markdown",
   "id": "58b86c27",
   "metadata": {},
   "source": [
    "Retreive all Stocks (positions) related to our portfolios"
   ]
  },
  {
   "cell_type": "code",
   "execution_count": 12,
   "id": "2fa5e431",
   "metadata": {},
   "outputs": [],
   "source": [
    "from services.position_dao import get_positions_by_portfolio"
   ]
  },
  {
   "cell_type": "code",
   "execution_count": 13,
   "id": "70215dc0",
   "metadata": {},
   "outputs": [],
   "source": [
    "portfolio_summary = []\n",
    "\n",
    "for portfolio in portfolios:\n",
    "    positions = get_positions_by_portfolio(portfolio.id)\n",
    "\n",
    "    positions_list = []\n",
    "    for p in positions:\n",
    "        stock_info = stock_lookup.get(p.ticker, {})\n",
    "        positions_list.append({\n",
    "            \"id\": p.id,\n",
    "            \"ticker\": p.ticker,\n",
    "            \"quantity\": p.quantity,\n",
    "            \"average_price\": float(p.average_price),\n",
    "            \"created_at\": p.created_at.isoformat(),\n",
    "            \"updated_at\": p.updated_at.isoformat(),\n",
    "            \"current_price\": stock_info.get(\"price\"),\n",
    "            \"percent_change\": stock_info.get(\"changePercent\")\n",
    "        })\n",
    "\n",
    "    portfolio_summary.append({\n",
    "        \"portfolio_id\": portfolio.id,\n",
    "        \"portfolio_name\": portfolio.name,\n",
    "        \"strategy\": portfolio.strategy.value,\n",
    "        \"positions\": positions_list\n",
    "    })"
   ]
  },
  {
   "cell_type": "code",
   "execution_count": 14,
   "id": "5a339094",
   "metadata": {},
   "outputs": [],
   "source": [
    "import json"
   ]
  },
  {
   "cell_type": "code",
   "execution_count": 15,
   "id": "ab11492f",
   "metadata": {},
   "outputs": [
    {
     "name": "stdout",
     "output_type": "stream",
     "text": [
      "[\n",
      "  {\n",
      "    \"portfolio_id\": 1,\n",
      "    \"portfolio_name\": \"Retirement Portfolio\",\n",
      "    \"strategy\": \"long_term\",\n",
      "    \"positions\": [\n",
      "      {\n",
      "        \"id\": 1,\n",
      "        \"ticker\": \"AAPL\",\n",
      "        \"quantity\": 84,\n",
      "        \"average_price\": 160.72,\n",
      "        \"created_at\": \"2025-04-15T18:34:24\",\n",
      "        \"updated_at\": \"2025-04-30T03:11:42\",\n",
      "        \"current_price\": 211.21,\n",
      "        \"percent_change\": 0.51\n",
      "      },\n",
      "      {\n",
      "        \"id\": 2,\n",
      "        \"ticker\": \"GOOGL\",\n",
      "        \"quantity\": 5,\n",
      "        \"average_price\": 2800.0,\n",
      "        \"created_at\": \"2025-04-15T18:34:24\",\n",
      "        \"updated_at\": \"2025-04-15T18:34:24\",\n",
      "        \"current_price\": 160.16,\n",
      "        \"percent_change\": -0.28\n",
      "      },\n",
      "      {\n",
      "        \"id\": 7,\n",
      "        \"ticker\": \"META\",\n",
      "        \"quantity\": 11,\n",
      "        \"average_price\": 175.0,\n",
      "        \"created_at\": \"2025-04-30T03:15:06\",\n",
      "        \"updated_at\": \"2025-04-30T03:15:06\",\n",
      "        \"current_price\": 554.44,\n",
      "        \"percent_change\": 0.85\n",
      "      },\n",
      "      {\n",
      "        \"id\": 4,\n",
      "        \"ticker\": \"MSFT\",\n",
      "        \"quantity\": 10,\n",
      "        \"average_price\": 100.0,\n",
      "        \"created_at\": \"2025-04-22T00:22:51\",\n",
      "        \"updated_at\": \"2025-04-22T00:22:51\",\n",
      "        \"current_price\": 394.04,\n",
      "        \"percent_change\": 0.74\n",
      "      }\n",
      "    ]\n",
      "  },\n",
      "  {\n",
      "    \"portfolio_id\": 2,\n",
      "    \"portfolio_name\": \"Swing Trades\",\n",
      "    \"strategy\": \"short_term\",\n",
      "    \"positions\": [\n",
      "      {\n",
      "        \"id\": 6,\n",
      "        \"ticker\": \"META\",\n",
      "        \"quantity\": 113,\n",
      "        \"average_price\": 75.0,\n",
      "        \"created_at\": \"2025-04-30T03:14:14\",\n",
      "        \"updated_at\": \"2025-04-30T03:14:14\",\n",
      "        \"current_price\": 554.44,\n",
      "        \"percent_change\": 0.85\n",
      "      },\n",
      "      {\n",
      "        \"id\": 3,\n",
      "        \"ticker\": \"TSLA\",\n",
      "        \"quantity\": 3,\n",
      "        \"average_price\": 700.0,\n",
      "        \"created_at\": \"2025-04-15T18:34:24\",\n",
      "        \"updated_at\": \"2025-04-15T18:34:24\",\n",
      "        \"current_price\": 292.03,\n",
      "        \"percent_change\": 2.15\n",
      "      }\n",
      "    ]\n",
      "  }\n",
      "]\n"
     ]
    }
   ],
   "source": [
    "json_result = json.dumps(portfolio_summary, indent=2)\n",
    "print(json_result)"
   ]
  },
  {
   "cell_type": "markdown",
   "id": "5e63b34e",
   "metadata": {},
   "source": [
    "Buy a stock and save the transaction"
   ]
  },
  {
   "cell_type": "code",
   "execution_count": 16,
   "id": "762b02b6",
   "metadata": {},
   "outputs": [],
   "source": [
    "from services.transaction_dao import add_transaction\n",
    "from services.position_dao import buy_stock\n",
    "from models.transactions import TransactionType"
   ]
  },
  {
   "cell_type": "code",
   "execution_count": 17,
   "id": "4b737bc8",
   "metadata": {},
   "outputs": [],
   "source": [
    "portfolio_id = 1\n",
    "ticker = \"META\"\n",
    "quantity = 11\n",
    "price = 175.00"
   ]
  },
  {
   "cell_type": "code",
   "execution_count": 18,
   "id": "f076772d",
   "metadata": {},
   "outputs": [
    {
     "name": "stdout",
     "output_type": "stream",
     "text": [
      "Successfully bought 11 of META stock at $175.00\n"
     ]
    }
   ],
   "source": [
    "message = buy_stock(portfolio_id, ticker, quantity, price)\n",
    "print(message)\n",
    "add_transaction(portfolio_id, ticker, quantity, price, TransactionType.buy)"
   ]
  },
  {
   "cell_type": "markdown",
   "id": "a7be708d",
   "metadata": {},
   "source": [
    "Sell a stock and save teh transaction"
   ]
  },
  {
   "cell_type": "code",
   "execution_count": null,
   "id": "53be9a9d",
   "metadata": {},
   "outputs": [],
   "source": [
    "from services.position_dao import sell_stock\n",
    "from services.transaction_dao import add_transaction\n",
    "from models.transactions import TransactionType"
   ]
  },
  {
   "cell_type": "code",
   "execution_count": 2,
   "id": "4c3e08a6",
   "metadata": {},
   "outputs": [],
   "source": [
    "portfolio_id = 1\n",
    "ticker = \"META\"\n",
    "quantity = 11\n",
    "price = 175.00"
   ]
  },
  {
   "cell_type": "code",
   "execution_count": null,
   "id": "27def031",
   "metadata": {},
   "outputs": [
    {
     "data": {
      "text/plain": [
       "'Successfully sold 11 of META stock at $175.00'"
      ]
     },
     "execution_count": 3,
     "metadata": {},
     "output_type": "execute_result"
    }
   ],
   "source": [
    "sell_stock(portfolio_id, ticker, quantity, price)\n",
    "add_transaction(portfolio_id, ticker, quantity, price, TransactionType.sell)"
   ]
  }
 ],
 "metadata": {
  "kernelspec": {
   "display_name": ".venv",
   "language": "python",
   "name": "python3"
  },
  "language_info": {
   "codemirror_mode": {
    "name": "ipython",
    "version": 3
   },
   "file_extension": ".py",
   "mimetype": "text/x-python",
   "name": "python",
   "nbconvert_exporter": "python",
   "pygments_lexer": "ipython3",
   "version": "3.11.9"
  }
 },
 "nbformat": 4,
 "nbformat_minor": 5
}
