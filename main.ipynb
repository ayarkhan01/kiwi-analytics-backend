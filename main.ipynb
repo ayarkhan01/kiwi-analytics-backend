{
 "cells": [
  {
   "cell_type": "markdown",
   "id": "55f7b669",
   "metadata": {},
   "source": [
    "Password match - get user ID"
   ]
  },
  {
   "cell_type": "code",
   "execution_count": 1,
   "id": "0f8583b8",
   "metadata": {},
   "outputs": [],
   "source": [
    "from services.user_dao import password_match, get_user_id"
   ]
  },
  {
   "cell_type": "code",
   "execution_count": 2,
   "id": "08a1ce67",
   "metadata": {},
   "outputs": [],
   "source": [
    "admin = \"admin\"\n",
    "password = \"admin\""
   ]
  },
  {
   "cell_type": "code",
   "execution_count": 3,
   "id": "59f79e89",
   "metadata": {},
   "outputs": [
    {
     "name": "stdout",
     "output_type": "stream",
     "text": [
      "Login successful – User ID: 1\n"
     ]
    }
   ],
   "source": [
    "if not password_match(admin, password):\n",
    "    raise Exception(\"Login failed\")\n",
    "\n",
    "user_id = get_user_id(admin)\n",
    "print(f\"Login successful – User ID: {user_id}\")"
   ]
  },
  {
   "cell_type": "markdown",
   "id": "a2a31075",
   "metadata": {},
   "source": [
    "Retrieve all portfolios and transaction history related to this ID"
   ]
  },
  {
   "cell_type": "code",
   "execution_count": 4,
   "id": "e4743911",
   "metadata": {},
   "outputs": [],
   "source": [
    "from services.portfolio_dao import get_portfolios_by_user"
   ]
  },
  {
   "cell_type": "code",
   "execution_count": 5,
   "id": "3c5abbc2",
   "metadata": {},
   "outputs": [],
   "source": [
    "portfolios = get_portfolios_by_user(user_id)\n",
    "portfolio_id_to_name = {p.id: p.name for p in portfolios}"
   ]
  },
  {
   "cell_type": "code",
   "execution_count": 6,
   "id": "46a71e03",
   "metadata": {},
   "outputs": [],
   "source": [
    "from services.transaction_dao import get_transactions_for_portfolio"
   ]
  },
  {
   "cell_type": "code",
   "execution_count": 7,
   "id": "addcf297",
   "metadata": {},
   "outputs": [],
   "source": [
    "portfolio_transactions = {\n",
    "    p.id: get_transactions_for_portfolio(p.id)\n",
    "    for p in portfolios\n",
    "}"
   ]
  },
  {
   "cell_type": "code",
   "execution_count": 8,
   "id": "446e66ad",
   "metadata": {},
   "outputs": [],
   "source": [
    "frontend_transactions = []\n",
    "for pid, txs in portfolio_transactions.items():\n",
    "    portfolio_name = portfolio_id_to_name.get(pid, \"Unknown Portfolio\")\n",
    "    for tx in txs:\n",
    "        frontend_transactions.append({\n",
    "            \"id\": tx[\"id\"],\n",
    "            \"portfolio\": portfolio_name,\n",
    "            \"ticker\": tx[\"ticker\"],\n",
    "            \"type\": tx[\"type\"].title(),\n",
    "            \"quantity\": tx[\"quantity\"],\n",
    "            \"price\": tx[\"price\"],\n",
    "            \"dateTime\": tx[\"executed_at\"].strftime(\"%Y-%m-%d %H:%M:%S\")\n",
    "        })"
   ]
  },
  {
   "cell_type": "code",
   "execution_count": 17,
   "id": "26267edc",
   "metadata": {},
   "outputs": [
    {
     "data": {
      "text/plain": [
       "[{'id': 1,\n",
       "  'portfolio': 'Retirement Portfolio',\n",
       "  'ticker': 'AAPL',\n",
       "  'type': 'Buy',\n",
       "  'quantity': 10,\n",
       "  'price': 150.0,\n",
       "  'dateTime': '2025-04-15 18:34:45'},\n",
       " {'id': 2,\n",
       "  'portfolio': 'Retirement Portfolio',\n",
       "  'ticker': 'GOOGL',\n",
       "  'type': 'Buy',\n",
       "  'quantity': 5,\n",
       "  'price': 2800.0,\n",
       "  'dateTime': '2025-04-15 18:34:45'},\n",
       " {'id': 5,\n",
       "  'portfolio': 'Retirement Portfolio',\n",
       "  'ticker': 'MSFT',\n",
       "  'type': 'Buy',\n",
       "  'quantity': 10,\n",
       "  'price': 100.0,\n",
       "  'dateTime': '2025-04-22 00:22:51'},\n",
       " {'id': 6,\n",
       "  'portfolio': 'Retirement Portfolio',\n",
       "  'ticker': 'AAPL',\n",
       "  'type': 'Sell',\n",
       "  'quantity': 5,\n",
       "  'price': 150.0,\n",
       "  'dateTime': '2025-04-22 00:28:24'},\n",
       " {'id': 8,\n",
       "  'portfolio': 'Retirement Portfolio',\n",
       "  'ticker': 'APPL',\n",
       "  'type': 'Buy',\n",
       "  'quantity': 10,\n",
       "  'price': 100.0,\n",
       "  'dateTime': '2025-04-22 00:31:22'},\n",
       " {'id': 3,\n",
       "  'portfolio': 'Swing Trades',\n",
       "  'ticker': 'TSLA',\n",
       "  'type': 'Buy',\n",
       "  'quantity': 3,\n",
       "  'price': 700.0,\n",
       "  'dateTime': '2025-04-15 18:34:45'},\n",
       " {'id': 4,\n",
       "  'portfolio': 'Swing Trades',\n",
       "  'ticker': 'TSLA',\n",
       "  'type': 'Sell',\n",
       "  'quantity': 1,\n",
       "  'price': 750.0,\n",
       "  'dateTime': '2025-04-15 18:34:45'}]"
      ]
     },
     "execution_count": 17,
     "metadata": {},
     "output_type": "execute_result"
    }
   ],
   "source": [
    "frontend_transactions"
   ]
  },
  {
   "cell_type": "markdown",
   "id": "576c0076",
   "metadata": {},
   "source": [
    "Fetch latest market data related to our portfolio stocks"
   ]
  },
  {
   "cell_type": "code",
   "execution_count": 9,
   "id": "926320ea",
   "metadata": {},
   "outputs": [],
   "source": [
    "from services.market_service import fetch_market_data"
   ]
  },
  {
   "cell_type": "code",
   "execution_count": 10,
   "id": "46c0a7b0",
   "metadata": {},
   "outputs": [],
   "source": [
    "stock_lookup = {s['ticker']: s for s in fetch_market_data()}"
   ]
  },
  {
   "cell_type": "markdown",
   "id": "58b86c27",
   "metadata": {},
   "source": [
    "Retreive all Stocks (positions) related to our portfolios"
   ]
  },
  {
   "cell_type": "code",
   "execution_count": 11,
   "id": "2fa5e431",
   "metadata": {},
   "outputs": [],
   "source": [
    "from services.position_dao import get_positions_by_portfolio"
   ]
  },
  {
   "cell_type": "code",
   "execution_count": 12,
   "id": "70215dc0",
   "metadata": {},
   "outputs": [],
   "source": [
    "portfolio_summary = []\n",
    "\n",
    "for portfolio in portfolios:\n",
    "    positions = get_positions_by_portfolio(portfolio.id)\n",
    "\n",
    "    positions_list = []\n",
    "    for p in positions:\n",
    "        stock_info = stock_lookup.get(p.ticker, {})\n",
    "        positions_list.append({\n",
    "            \"id\": p.id,\n",
    "            \"ticker\": p.ticker,\n",
    "            \"quantity\": p.quantity,\n",
    "            \"average_price\": float(p.average_price),\n",
    "            \"created_at\": p.created_at.isoformat(),\n",
    "            \"updated_at\": p.updated_at.isoformat(),\n",
    "            \"current_price\": stock_info.get(\"price\"),\n",
    "            \"percent_change\": stock_info.get(\"changePercent\")\n",
    "        })\n",
    "\n",
    "    portfolio_summary.append({\n",
    "        \"portfolio_id\": portfolio.id,\n",
    "        \"portfolio_name\": portfolio.name,\n",
    "        \"strategy\": portfolio.strategy.value,\n",
    "        \"positions\": positions_list\n",
    "    })"
   ]
  },
  {
   "cell_type": "code",
   "execution_count": 14,
   "id": "5a339094",
   "metadata": {},
   "outputs": [],
   "source": [
    "import json"
   ]
  },
  {
   "cell_type": "code",
   "execution_count": 16,
   "id": "ab11492f",
   "metadata": {},
   "outputs": [
    {
     "name": "stdout",
     "output_type": "stream",
     "text": [
      "[\n",
      "  {\n",
      "    \"portfolio_id\": 1,\n",
      "    \"portfolio_name\": \"Retirement Portfolio\",\n",
      "    \"strategy\": \"long_term\",\n",
      "    \"positions\": [\n",
      "      {\n",
      "        \"id\": 1,\n",
      "        \"ticker\": \"AAPL\",\n",
      "        \"quantity\": 5,\n",
      "        \"average_price\": 150.0,\n",
      "        \"created_at\": \"2025-04-15T18:34:24\",\n",
      "        \"updated_at\": \"2025-04-22T00:28:24\",\n",
      "        \"current_price\": 211.21,\n",
      "        \"percent_change\": 0.51\n",
      "      },\n",
      "      {\n",
      "        \"id\": 5,\n",
      "        \"ticker\": \"APPL\",\n",
      "        \"quantity\": 10,\n",
      "        \"average_price\": 100.0,\n",
      "        \"created_at\": \"2025-04-22T00:31:22\",\n",
      "        \"updated_at\": \"2025-04-22T00:31:22\",\n",
      "        \"current_price\": null,\n",
      "        \"percent_change\": null\n",
      "      },\n",
      "      {\n",
      "        \"id\": 2,\n",
      "        \"ticker\": \"GOOGL\",\n",
      "        \"quantity\": 5,\n",
      "        \"average_price\": 2800.0,\n",
      "        \"created_at\": \"2025-04-15T18:34:24\",\n",
      "        \"updated_at\": \"2025-04-15T18:34:24\",\n",
      "        \"current_price\": 160.16,\n",
      "        \"percent_change\": -0.28\n",
      "      },\n",
      "      {\n",
      "        \"id\": 4,\n",
      "        \"ticker\": \"MSFT\",\n",
      "        \"quantity\": 10,\n",
      "        \"average_price\": 100.0,\n",
      "        \"created_at\": \"2025-04-22T00:22:51\",\n",
      "        \"updated_at\": \"2025-04-22T00:22:51\",\n",
      "        \"current_price\": 394.04,\n",
      "        \"percent_change\": 0.74\n",
      "      }\n",
      "    ]\n",
      "  },\n",
      "  {\n",
      "    \"portfolio_id\": 2,\n",
      "    \"portfolio_name\": \"Swing Trades\",\n",
      "    \"strategy\": \"short_term\",\n",
      "    \"positions\": [\n",
      "      {\n",
      "        \"id\": 3,\n",
      "        \"ticker\": \"TSLA\",\n",
      "        \"quantity\": 3,\n",
      "        \"average_price\": 700.0,\n",
      "        \"created_at\": \"2025-04-15T18:34:24\",\n",
      "        \"updated_at\": \"2025-04-15T18:34:24\",\n",
      "        \"current_price\": 292.03,\n",
      "        \"percent_change\": 2.15\n",
      "      }\n",
      "    ]\n",
      "  }\n",
      "]\n"
     ]
    }
   ],
   "source": [
    "json_result = json.dumps(portfolio_summary, indent=2)\n",
    "print(json_result)"
   ]
  },
  {
   "cell_type": "code",
   "execution_count": 20,
   "id": "762b02b6",
   "metadata": {},
   "outputs": [],
   "source": [
    "from services.transaction_dao import add_transaction\n",
    "from services.position_dao import buy_stock\n",
    "from models.transactions import TransactionType"
   ]
  },
  {
   "cell_type": "code",
   "execution_count": 22,
   "id": "4b737bc8",
   "metadata": {},
   "outputs": [],
   "source": [
    "portfolio_id = 1\n",
    "ticker = \"AAPL\"\n",
    "quantity = 10\n",
    "price = 150.00"
   ]
  },
  {
   "cell_type": "code",
   "execution_count": 27,
   "id": "f076772d",
   "metadata": {},
   "outputs": [
    {
     "ename": "DetachedInstanceError",
     "evalue": "Instance <Position at 0x1255eae50> is not bound to a Session; attribute refresh operation cannot proceed (Background on this error at: https://sqlalche.me/e/20/bhk3)",
     "output_type": "error",
     "traceback": [
      "\u001b[31m---------------------------------------------------------------------------\u001b[39m",
      "\u001b[31mDetachedInstanceError\u001b[39m                     Traceback (most recent call last)",
      "\u001b[36mFile \u001b[39m\u001b[32m~/Documents/Work/Coding Projects/UTD/kiwi-analytics/backend/.venv/lib/python3.11/site-packages/IPython/core/formatters.py:770\u001b[39m, in \u001b[36mPlainTextFormatter.__call__\u001b[39m\u001b[34m(self, obj)\u001b[39m\n\u001b[32m    763\u001b[39m stream = StringIO()\n\u001b[32m    764\u001b[39m printer = pretty.RepresentationPrinter(stream, \u001b[38;5;28mself\u001b[39m.verbose,\n\u001b[32m    765\u001b[39m     \u001b[38;5;28mself\u001b[39m.max_width, \u001b[38;5;28mself\u001b[39m.newline,\n\u001b[32m    766\u001b[39m     max_seq_length=\u001b[38;5;28mself\u001b[39m.max_seq_length,\n\u001b[32m    767\u001b[39m     singleton_pprinters=\u001b[38;5;28mself\u001b[39m.singleton_printers,\n\u001b[32m    768\u001b[39m     type_pprinters=\u001b[38;5;28mself\u001b[39m.type_printers,\n\u001b[32m    769\u001b[39m     deferred_pprinters=\u001b[38;5;28mself\u001b[39m.deferred_printers)\n\u001b[32m--> \u001b[39m\u001b[32m770\u001b[39m \u001b[43mprinter\u001b[49m\u001b[43m.\u001b[49m\u001b[43mpretty\u001b[49m\u001b[43m(\u001b[49m\u001b[43mobj\u001b[49m\u001b[43m)\u001b[49m\n\u001b[32m    771\u001b[39m printer.flush()\n\u001b[32m    772\u001b[39m \u001b[38;5;28;01mreturn\u001b[39;00m stream.getvalue()\n",
      "\u001b[36mFile \u001b[39m\u001b[32m~/Documents/Work/Coding Projects/UTD/kiwi-analytics/backend/.venv/lib/python3.11/site-packages/IPython/lib/pretty.py:411\u001b[39m, in \u001b[36mRepresentationPrinter.pretty\u001b[39m\u001b[34m(self, obj)\u001b[39m\n\u001b[32m    400\u001b[39m                         \u001b[38;5;28;01mreturn\u001b[39;00m meth(obj, \u001b[38;5;28mself\u001b[39m, cycle)\n\u001b[32m    401\u001b[39m                 \u001b[38;5;28;01mif\u001b[39;00m (\n\u001b[32m    402\u001b[39m                     \u001b[38;5;28mcls\u001b[39m \u001b[38;5;129;01mis\u001b[39;00m \u001b[38;5;129;01mnot\u001b[39;00m \u001b[38;5;28mobject\u001b[39m\n\u001b[32m    403\u001b[39m                     \u001b[38;5;66;03m# check if cls defines __repr__\u001b[39;00m\n\u001b[32m   (...)\u001b[39m\u001b[32m    409\u001b[39m                     \u001b[38;5;129;01mand\u001b[39;00m \u001b[38;5;28mcallable\u001b[39m(_safe_getattr(\u001b[38;5;28mcls\u001b[39m, \u001b[33m\"\u001b[39m\u001b[33m__repr__\u001b[39m\u001b[33m\"\u001b[39m, \u001b[38;5;28;01mNone\u001b[39;00m))\n\u001b[32m    410\u001b[39m                 ):\n\u001b[32m--> \u001b[39m\u001b[32m411\u001b[39m                     \u001b[38;5;28;01mreturn\u001b[39;00m \u001b[43m_repr_pprint\u001b[49m\u001b[43m(\u001b[49m\u001b[43mobj\u001b[49m\u001b[43m,\u001b[49m\u001b[43m \u001b[49m\u001b[38;5;28;43mself\u001b[39;49m\u001b[43m,\u001b[49m\u001b[43m \u001b[49m\u001b[43mcycle\u001b[49m\u001b[43m)\u001b[49m\n\u001b[32m    413\u001b[39m     \u001b[38;5;28;01mreturn\u001b[39;00m _default_pprint(obj, \u001b[38;5;28mself\u001b[39m, cycle)\n\u001b[32m    414\u001b[39m \u001b[38;5;28;01mfinally\u001b[39;00m:\n",
      "\u001b[36mFile \u001b[39m\u001b[32m~/Documents/Work/Coding Projects/UTD/kiwi-analytics/backend/.venv/lib/python3.11/site-packages/IPython/lib/pretty.py:786\u001b[39m, in \u001b[36m_repr_pprint\u001b[39m\u001b[34m(obj, p, cycle)\u001b[39m\n\u001b[32m    784\u001b[39m \u001b[38;5;250m\u001b[39m\u001b[33;03m\"\"\"A pprint that just redirects to the normal repr function.\"\"\"\u001b[39;00m\n\u001b[32m    785\u001b[39m \u001b[38;5;66;03m# Find newlines and replace them with p.break_()\u001b[39;00m\n\u001b[32m--> \u001b[39m\u001b[32m786\u001b[39m output = \u001b[38;5;28mrepr\u001b[39m(obj)\n\u001b[32m    787\u001b[39m lines = output.splitlines()\n\u001b[32m    788\u001b[39m \u001b[38;5;28;01mwith\u001b[39;00m p.group():\n",
      "\u001b[36mFile \u001b[39m\u001b[32m~/Documents/Work/Coding Projects/UTD/kiwi-analytics/backend/models/positions.py:22\u001b[39m, in \u001b[36mPosition.__repr__\u001b[39m\u001b[34m(self)\u001b[39m\n\u001b[32m     21\u001b[39m \u001b[38;5;28;01mdef\u001b[39;00m\u001b[38;5;250m \u001b[39m\u001b[34m__repr__\u001b[39m(\u001b[38;5;28mself\u001b[39m):\n\u001b[32m---> \u001b[39m\u001b[32m22\u001b[39m     \u001b[38;5;28;01mreturn\u001b[39;00m (\u001b[33mf\u001b[39m\u001b[33m\"\u001b[39m\u001b[33m<Position(id=\u001b[39m\u001b[38;5;132;01m{\u001b[39;00m\u001b[38;5;28;43mself\u001b[39;49m\u001b[43m.\u001b[49m\u001b[43mid\u001b[49m\u001b[38;5;132;01m}\u001b[39;00m\u001b[33m, portfolio_id=\u001b[39m\u001b[38;5;132;01m{\u001b[39;00m\u001b[38;5;28mself\u001b[39m.portfolio_id\u001b[38;5;132;01m}\u001b[39;00m\u001b[33m, \u001b[39m\u001b[33m\"\u001b[39m\n\u001b[32m     23\u001b[39m             \u001b[33mf\u001b[39m\u001b[33m\"\u001b[39m\u001b[33mticker=\u001b[39m\u001b[33m'\u001b[39m\u001b[38;5;132;01m{\u001b[39;00m\u001b[38;5;28mself\u001b[39m.ticker\u001b[38;5;132;01m}\u001b[39;00m\u001b[33m'\u001b[39m\u001b[33m, quantity=\u001b[39m\u001b[38;5;132;01m{\u001b[39;00m\u001b[38;5;28mself\u001b[39m.quantity\u001b[38;5;132;01m}\u001b[39;00m\u001b[33m, \u001b[39m\u001b[33m\"\u001b[39m\n\u001b[32m     24\u001b[39m             \u001b[33mf\u001b[39m\u001b[33m\"\u001b[39m\u001b[33maverage_price=\u001b[39m\u001b[38;5;132;01m{\u001b[39;00m\u001b[38;5;28mself\u001b[39m.average_price\u001b[38;5;132;01m}\u001b[39;00m\u001b[33m, \u001b[39m\u001b[33m\"\u001b[39m\n\u001b[32m     25\u001b[39m             \u001b[33mf\u001b[39m\u001b[33m\"\u001b[39m\u001b[33mcreated_at=\u001b[39m\u001b[38;5;132;01m{\u001b[39;00m\u001b[38;5;28mself\u001b[39m.created_at\u001b[38;5;132;01m}\u001b[39;00m\u001b[33m, updated_at=\u001b[39m\u001b[38;5;132;01m{\u001b[39;00m\u001b[38;5;28mself\u001b[39m.updated_at\u001b[38;5;132;01m}\u001b[39;00m\u001b[33m)>\u001b[39m\u001b[33m\"\u001b[39m)\n",
      "\u001b[36mFile \u001b[39m\u001b[32m~/Documents/Work/Coding Projects/UTD/kiwi-analytics/backend/.venv/lib/python3.11/site-packages/sqlalchemy/orm/attributes.py:566\u001b[39m, in \u001b[36mInstrumentedAttribute.__get__\u001b[39m\u001b[34m(self, instance, owner)\u001b[39m\n\u001b[32m    564\u001b[39m \u001b[38;5;28;01mexcept\u001b[39;00m \u001b[38;5;167;01mAttributeError\u001b[39;00m \u001b[38;5;28;01mas\u001b[39;00m err:\n\u001b[32m    565\u001b[39m     \u001b[38;5;28;01mraise\u001b[39;00m orm_exc.UnmappedInstanceError(instance) \u001b[38;5;28;01mfrom\u001b[39;00m\u001b[38;5;250m \u001b[39m\u001b[34;01merr\u001b[39;00m\n\u001b[32m--> \u001b[39m\u001b[32m566\u001b[39m \u001b[38;5;28;01mreturn\u001b[39;00m \u001b[38;5;28;43mself\u001b[39;49m\u001b[43m.\u001b[49m\u001b[43mimpl\u001b[49m\u001b[43m.\u001b[49m\u001b[43mget\u001b[49m\u001b[43m(\u001b[49m\u001b[43mstate\u001b[49m\u001b[43m,\u001b[49m\u001b[43m \u001b[49m\u001b[43mdict_\u001b[49m\u001b[43m)\u001b[49m\n",
      "\u001b[36mFile \u001b[39m\u001b[32m~/Documents/Work/Coding Projects/UTD/kiwi-analytics/backend/.venv/lib/python3.11/site-packages/sqlalchemy/orm/attributes.py:1086\u001b[39m, in \u001b[36mAttributeImpl.get\u001b[39m\u001b[34m(self, state, dict_, passive)\u001b[39m\n\u001b[32m   1083\u001b[39m \u001b[38;5;28;01mif\u001b[39;00m \u001b[38;5;129;01mnot\u001b[39;00m passive & CALLABLES_OK:\n\u001b[32m   1084\u001b[39m     \u001b[38;5;28;01mreturn\u001b[39;00m PASSIVE_NO_RESULT\n\u001b[32m-> \u001b[39m\u001b[32m1086\u001b[39m value = \u001b[38;5;28;43mself\u001b[39;49m\u001b[43m.\u001b[49m\u001b[43m_fire_loader_callables\u001b[49m\u001b[43m(\u001b[49m\u001b[43mstate\u001b[49m\u001b[43m,\u001b[49m\u001b[43m \u001b[49m\u001b[43mkey\u001b[49m\u001b[43m,\u001b[49m\u001b[43m \u001b[49m\u001b[43mpassive\u001b[49m\u001b[43m)\u001b[49m\n\u001b[32m   1088\u001b[39m \u001b[38;5;28;01mif\u001b[39;00m value \u001b[38;5;129;01mis\u001b[39;00m PASSIVE_NO_RESULT \u001b[38;5;129;01mor\u001b[39;00m value \u001b[38;5;129;01mis\u001b[39;00m NO_VALUE:\n\u001b[32m   1089\u001b[39m     \u001b[38;5;28;01mreturn\u001b[39;00m value\n",
      "\u001b[36mFile \u001b[39m\u001b[32m~/Documents/Work/Coding Projects/UTD/kiwi-analytics/backend/.venv/lib/python3.11/site-packages/sqlalchemy/orm/attributes.py:1116\u001b[39m, in \u001b[36mAttributeImpl._fire_loader_callables\u001b[39m\u001b[34m(self, state, key, passive)\u001b[39m\n\u001b[32m   1108\u001b[39m \u001b[38;5;28;01mdef\u001b[39;00m\u001b[38;5;250m \u001b[39m\u001b[34m_fire_loader_callables\u001b[39m(\n\u001b[32m   1109\u001b[39m     \u001b[38;5;28mself\u001b[39m, state: InstanceState[Any], key: \u001b[38;5;28mstr\u001b[39m, passive: PassiveFlag\n\u001b[32m   1110\u001b[39m ) -> Any:\n\u001b[32m   1111\u001b[39m     \u001b[38;5;28;01mif\u001b[39;00m (\n\u001b[32m   1112\u001b[39m         \u001b[38;5;28mself\u001b[39m.accepts_scalar_loader\n\u001b[32m   1113\u001b[39m         \u001b[38;5;129;01mand\u001b[39;00m \u001b[38;5;28mself\u001b[39m.load_on_unexpire\n\u001b[32m   1114\u001b[39m         \u001b[38;5;129;01mand\u001b[39;00m key \u001b[38;5;129;01min\u001b[39;00m state.expired_attributes\n\u001b[32m   1115\u001b[39m     ):\n\u001b[32m-> \u001b[39m\u001b[32m1116\u001b[39m         \u001b[38;5;28;01mreturn\u001b[39;00m \u001b[43mstate\u001b[49m\u001b[43m.\u001b[49m\u001b[43m_load_expired\u001b[49m\u001b[43m(\u001b[49m\u001b[43mstate\u001b[49m\u001b[43m,\u001b[49m\u001b[43m \u001b[49m\u001b[43mpassive\u001b[49m\u001b[43m)\u001b[49m\n\u001b[32m   1117\u001b[39m     \u001b[38;5;28;01melif\u001b[39;00m key \u001b[38;5;129;01min\u001b[39;00m state.callables:\n\u001b[32m   1118\u001b[39m         callable_ = state.callables[key]\n",
      "\u001b[36mFile \u001b[39m\u001b[32m~/Documents/Work/Coding Projects/UTD/kiwi-analytics/backend/.venv/lib/python3.11/site-packages/sqlalchemy/orm/state.py:803\u001b[39m, in \u001b[36mInstanceState._load_expired\u001b[39m\u001b[34m(self, state, passive)\u001b[39m\n\u001b[32m    796\u001b[39m toload = \u001b[38;5;28mself\u001b[39m.expired_attributes.intersection(\u001b[38;5;28mself\u001b[39m.unmodified)\n\u001b[32m    797\u001b[39m toload = toload.difference(\n\u001b[32m    798\u001b[39m     attr\n\u001b[32m    799\u001b[39m     \u001b[38;5;28;01mfor\u001b[39;00m attr \u001b[38;5;129;01min\u001b[39;00m toload\n\u001b[32m    800\u001b[39m     \u001b[38;5;28;01mif\u001b[39;00m \u001b[38;5;129;01mnot\u001b[39;00m \u001b[38;5;28mself\u001b[39m.manager[attr].impl.load_on_unexpire\n\u001b[32m    801\u001b[39m )\n\u001b[32m--> \u001b[39m\u001b[32m803\u001b[39m \u001b[38;5;28;43mself\u001b[39;49m\u001b[43m.\u001b[49m\u001b[43mmanager\u001b[49m\u001b[43m.\u001b[49m\u001b[43mexpired_attribute_loader\u001b[49m\u001b[43m(\u001b[49m\u001b[38;5;28;43mself\u001b[39;49m\u001b[43m,\u001b[49m\u001b[43m \u001b[49m\u001b[43mtoload\u001b[49m\u001b[43m,\u001b[49m\u001b[43m \u001b[49m\u001b[43mpassive\u001b[49m\u001b[43m)\u001b[49m\n\u001b[32m    805\u001b[39m \u001b[38;5;66;03m# if the loader failed, or this\u001b[39;00m\n\u001b[32m    806\u001b[39m \u001b[38;5;66;03m# instance state didn't have an identity,\u001b[39;00m\n\u001b[32m    807\u001b[39m \u001b[38;5;66;03m# the attributes still might be in the callables\u001b[39;00m\n\u001b[32m    808\u001b[39m \u001b[38;5;66;03m# dict.  ensure they are removed.\u001b[39;00m\n\u001b[32m    809\u001b[39m \u001b[38;5;28mself\u001b[39m.expired_attributes.clear()\n",
      "\u001b[36mFile \u001b[39m\u001b[32m~/Documents/Work/Coding Projects/UTD/kiwi-analytics/backend/.venv/lib/python3.11/site-packages/sqlalchemy/orm/loading.py:1603\u001b[39m, in \u001b[36mload_scalar_attributes\u001b[39m\u001b[34m(mapper, state, attribute_names, passive)\u001b[39m\n\u001b[32m   1601\u001b[39m session = state.session\n\u001b[32m   1602\u001b[39m \u001b[38;5;28;01mif\u001b[39;00m \u001b[38;5;129;01mnot\u001b[39;00m session:\n\u001b[32m-> \u001b[39m\u001b[32m1603\u001b[39m     \u001b[38;5;28;01mraise\u001b[39;00m orm_exc.DetachedInstanceError(\n\u001b[32m   1604\u001b[39m         \u001b[33m\"\u001b[39m\u001b[33mInstance \u001b[39m\u001b[38;5;132;01m%s\u001b[39;00m\u001b[33m is not bound to a Session; \u001b[39m\u001b[33m\"\u001b[39m\n\u001b[32m   1605\u001b[39m         \u001b[33m\"\u001b[39m\u001b[33mattribute refresh operation cannot proceed\u001b[39m\u001b[33m\"\u001b[39m % (state_str(state))\n\u001b[32m   1606\u001b[39m     )\n\u001b[32m   1608\u001b[39m no_autoflush = \u001b[38;5;28mbool\u001b[39m(passive & attributes.NO_AUTOFLUSH)\n\u001b[32m   1610\u001b[39m \u001b[38;5;66;03m# in the case of inheritance, particularly concrete and abstract\u001b[39;00m\n\u001b[32m   1611\u001b[39m \u001b[38;5;66;03m# concrete inheritance, the class manager might have some keys\u001b[39;00m\n\u001b[32m   1612\u001b[39m \u001b[38;5;66;03m# of attributes on the superclass that we didn't actually map.\u001b[39;00m\n\u001b[32m   1613\u001b[39m \u001b[38;5;66;03m# These could be mapped as \"concrete, don't load\" or could be completely\u001b[39;00m\n\u001b[32m   1614\u001b[39m \u001b[38;5;66;03m# excluded from the mapping and we know nothing about them.  Filter them\u001b[39;00m\n\u001b[32m   1615\u001b[39m \u001b[38;5;66;03m# here to prevent them from coming through.\u001b[39;00m\n",
      "\u001b[31mDetachedInstanceError\u001b[39m: Instance <Position at 0x1255eae50> is not bound to a Session; attribute refresh operation cannot proceed (Background on this error at: https://sqlalche.me/e/20/bhk3)"
     ]
    }
   ],
   "source": [
    "buy_stock(portfolio_id, ticker, quantity, price)"
   ]
  },
  {
   "cell_type": "code",
   "execution_count": null,
   "id": "c762d962",
   "metadata": {},
   "outputs": [],
   "source": [
    "add_transaction(portfolio_id, ticker, quantity, price, TransactionType.buy)"
   ]
  }
 ],
 "metadata": {
  "kernelspec": {
   "display_name": ".venv",
   "language": "python",
   "name": "python3"
  },
  "language_info": {
   "codemirror_mode": {
    "name": "ipython",
    "version": 3
   },
   "file_extension": ".py",
   "mimetype": "text/x-python",
   "name": "python",
   "nbconvert_exporter": "python",
   "pygments_lexer": "ipython3",
   "version": "3.11.9"
  }
 },
 "nbformat": 4,
 "nbformat_minor": 5
}
